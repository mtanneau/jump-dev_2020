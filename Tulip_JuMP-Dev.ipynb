{
 "cells": [
  {
   "cell_type": "code",
   "execution_count": 1,
   "metadata": {
    "scrolled": true,
    "slideshow": {
     "slide_type": "skip"
    }
   },
   "outputs": [
    {
     "name": "stderr",
     "output_type": "stream",
     "text": [
      "\u001b[32m\u001b[1m Activating\u001b[22m\u001b[39m environment at `/mnt/c/Users/mathi/Git/jump-dev_2020/Project.toml`\n"
     ]
    }
   ],
   "source": [
    "using Pkg\n",
    "Pkg.activate(\".\")"
   ]
  },
  {
   "cell_type": "code",
   "execution_count": 2,
   "metadata": {
    "slideshow": {
     "slide_type": "skip"
    }
   },
   "outputs": [
    {
     "data": {
      "text/plain": [
       "Krylov"
      ]
     },
     "execution_count": 2,
     "metadata": {},
     "output_type": "execute_result"
    }
   ],
   "source": [
    "using LinearAlgebra\n",
    "using SparseArrays\n",
    "\n",
    "using Quadmath\n",
    "\n",
    "using Tulip\n",
    "using Tulip.TLA\n",
    "using Tulip.KKT\n",
    "\n",
    "const Krylov = Tulip.KKT.Krylov"
   ]
  },
  {
   "cell_type": "markdown",
   "metadata": {
    "slideshow": {
     "slide_type": "slide"
    }
   },
   "source": [
    "# Design and implementation of [Tulip.jl](https://github.com/ds4dm/Tulip.jl)\n",
    "\n",
    "<br />\n",
    "\n",
    "Mathieu Tanneau\n",
    "\n",
    "JuMP developper call - Aug. 28th, 2020\n",
    "\n",
    "<br />\n",
    "  \n",
    "\n",
    "Technical report: https://arxiv.org/pdf/2006.08814.pdf <br />\n",
    "Material: https://github.com/mtanneau/jump-dev_2020"
   ]
  },
  {
   "cell_type": "markdown",
   "metadata": {
    "slideshow": {
     "slide_type": "subslide"
    }
   },
   "source": [
    "## Shameless advertising\n",
    "\n",
    "I'll be defending on October 2nd.\n",
    "* Decomposition techniques in power systems\n",
    "* Structured interior-point methods\n",
    "* Disjunctive cuts in mixed-integer conic optimization\n",
    "\n",
    "Details coming at https://cerc-datascience.polymtl.ca/"
   ]
  },
  {
   "cell_type": "markdown",
   "metadata": {
    "slideshow": {
     "slide_type": "subslide"
    }
   },
   "source": [
    "## Overview\n",
    "\n",
    "This talk is about\n",
    "1. The motivation between Tulip\n",
    "2. Design choices to allow specialized linear algebra\n",
    "3. Some lessons learned about internal data structures"
   ]
  },
  {
   "cell_type": "markdown",
   "metadata": {
    "slideshow": {
     "slide_type": "slide"
    }
   },
   "source": [
    "# Motivation"
   ]
  },
  {
   "cell_type": "markdown",
   "metadata": {
    "slideshow": {
     "slide_type": "subslide"
    }
   },
   "source": [
    "Linear programming problems:\n",
    "* linear objective\n",
    "* linear constraints\n",
    "* all variables continuous\n",
    "\n",
    "In *standard form*:\n",
    "\n",
    "\\begin{align}\n",
    "    (LP) \\ \\ \\ \\min_{x} \\ \\ \\ \n",
    "    & c^{T}x\\\\\n",
    "    & A x = b\\\\\n",
    "    & x \\geq 0\n",
    "\\end{align}\n",
    "\n",
    "Typically solved with simplex or interior-point method (IPM)."
   ]
  },
  {
   "cell_type": "markdown",
   "metadata": {
    "slideshow": {
     "slide_type": "subslide"
    }
   },
   "source": [
    "~~Almost~~ all IPM algorithms end solve _augmented systems_\n",
    "\n",
    "$$\n",
    "    \\begin{bmatrix}\n",
    "        -\\Theta^{-1} & A^{T}\\\\\n",
    "        A & 0\n",
    "    \\end{bmatrix}\n",
    "    \\begin{bmatrix}\n",
    "        \\Delta x\\\\\n",
    "        \\Delta y\n",
    "    \\end{bmatrix}\n",
    "    =\n",
    "    \\begin{bmatrix}\n",
    "        b\\\\\n",
    "        c\n",
    "    \\end{bmatrix}\n",
    "$$\n",
    "\n",
    "* Symmetric, indefinite\n",
    "* Can be reduced to normal equations $(A \\Theta A^{T}) \\Delta y = \\xi$"
   ]
  },
  {
   "cell_type": "markdown",
   "metadata": {
    "slideshow": {
     "slide_type": "fragment"
    }
   },
   "source": [
    "Tulip: _regularized_ augmented system\n",
    "\n",
    "$$\n",
    "    \\begin{bmatrix}\n",
    "        -(\\Theta^{-1} + {\\color{red}{R_{p}}}) & A^{T}\\\\\n",
    "        A & {\\color{red}{R_{d}}}\n",
    "    \\end{bmatrix}\n",
    "    \\begin{bmatrix}\n",
    "        \\Delta x\\\\\n",
    "        \\Delta y\n",
    "    \\end{bmatrix}\n",
    "    =\n",
    "    \\begin{bmatrix}\n",
    "        b\\\\\n",
    "        c\n",
    "    \\end{bmatrix}\n",
    "$$\n",
    "where $R_{p}, R_{d} \\succ 0$. (see paper for the mathematical justification)\n",
    "\n",
    "* Symmetric quasi-definite (SQD)\n",
    "* Amenable to $LDL^{T}$-type factorizations"
   ]
  },
  {
   "cell_type": "markdown",
   "metadata": {
    "slideshow": {
     "slide_type": "subslide"
    }
   },
   "source": [
    "Design of Tulip: exploit structure of $A$ to speed-up the resolution of\n",
    "\n",
    "$$\n",
    "    \\begin{bmatrix}\n",
    "        -(\\Theta^{-1} + R_{p}) & A^{T}\\\\\n",
    "        A & R_{d}\n",
    "    \\end{bmatrix}\n",
    "    \\begin{bmatrix}\n",
    "        \\Delta x\\\\\n",
    "        \\Delta y\n",
    "    \\end{bmatrix}\n",
    "    =\n",
    "    \\begin{bmatrix}\n",
    "        b\\\\\n",
    "        c\n",
    "    \\end{bmatrix}\n",
    "$$"
   ]
  },
  {
   "cell_type": "markdown",
   "metadata": {
    "slideshow": {
     "slide_type": "fragment"
    }
   },
   "source": [
    "E.g.:\n",
    "* Efficient data structures\n",
    "* Specialized matrix-vector product\n",
    "* Specialized factorization routines"
   ]
  },
  {
   "cell_type": "markdown",
   "metadata": {
    "slideshow": {
     "slide_type": "subslide"
    }
   },
   "source": [
    "3 requirements to do that in practice:\n",
    "1. Develop structure-exploiting data structures & routines...\n",
    "2. ... and integrate them in the IPM algorithmic framework\n",
    "3. Convey structure information to the solver\n",
    "\n",
    "This presentation: 2. & 3."
   ]
  },
  {
   "cell_type": "markdown",
   "metadata": {
    "slideshow": {
     "slide_type": "slide"
    }
   },
   "source": [
    "# Some examples"
   ]
  },
  {
   "cell_type": "markdown",
   "metadata": {
    "slideshow": {
     "slide_type": "subslide"
    }
   },
   "source": [
    "## Using a different arithmetic\n",
    "\n",
    "The model's arithmetic is chosen at instantiation."
   ]
  },
  {
   "cell_type": "code",
   "execution_count": 3,
   "metadata": {
    "slideshow": {
     "slide_type": "fragment"
    }
   },
   "outputs": [
    {
     "data": {
      "text/plain": [
       "-464.75314208040555"
      ]
     },
     "execution_count": 3,
     "metadata": {},
     "output_type": "execute_result"
    }
   ],
   "source": [
    "tlp = Tulip.Model{Float64}()  # Double-precision\n",
    "Tulip.load_problem!(tlp, \"dat/afiro.mps\")\n",
    "Tulip.optimize!(tlp)\n",
    "Tulip.get_attribute(tlp, Tulip.ObjectiveValue())"
   ]
  },
  {
   "cell_type": "code",
   "execution_count": 4,
   "metadata": {
    "slideshow": {
     "slide_type": "fragment"
    }
   },
   "outputs": [
    {
     "data": {
      "text/plain": [
       "-4.64753142857142852723921775450696180e+02"
      ]
     },
     "execution_count": 4,
     "metadata": {},
     "output_type": "execute_result"
    }
   ],
   "source": [
    "tlp = Tulip.Model{Float128}()  # Quadruple-precision\n",
    "Tulip.load_problem!(tlp, \"dat/afiro.mps\")\n",
    "Tulip.optimize!(tlp)\n",
    "Tulip.get_attribute(tlp, Tulip.ObjectiveValue())"
   ]
  },
  {
   "cell_type": "markdown",
   "metadata": {
    "slideshow": {
     "slide_type": "fragment"
    }
   },
   "source": [
    "Also available in MOI with `Tulip.Optimizer{T}`\n",
    "```julia\n",
    "moi64  = Tulip.Optimizer{Float64}()   # double precision\n",
    "moi128 = Tulip.Optimizer{Float128}()  # quad precision\n",
    "```"
   ]
  },
  {
   "cell_type": "markdown",
   "metadata": {
    "slideshow": {
     "slide_type": "subslide"
    }
   },
   "source": [
    "## Using specialized linear algebra"
   ]
  },
  {
   "cell_type": "code",
   "execution_count": 5,
   "metadata": {
    "slideshow": {
     "slide_type": "skip"
    }
   },
   "outputs": [],
   "source": [
    "tlp = Tulip.Model{Float64}()  # Double-precision\n",
    "Tulip.load_problem!(tlp, \"dat/afiro.mps\")\n",
    "tlp.params.OutputLevel = 1;"
   ]
  },
  {
   "cell_type": "markdown",
   "metadata": {
    "slideshow": {
     "slide_type": "-"
    }
   },
   "source": [
    "The user can specify:\n",
    "* Which data structure for $A$ (via `MatrixOptions`)\n",
    "* Which linear solver (via `KKTOptions`), i.e.,\n",
    "  * Augmented system vs normal equations\n",
    "  * Direct vs Indirect\n",
    "  * Backend\n",
    "\n",
    "Multiple dispatch takes care of the rest."
   ]
  },
  {
   "cell_type": "code",
   "execution_count": 6,
   "metadata": {
    "slideshow": {
     "slide_type": "fragment"
    }
   },
   "outputs": [],
   "source": [
    "# Dense linear algebra\n",
    "tlp.params.MatrixOptions = Tulip.TLA.MatrixOptions(Matrix)\n",
    "tlp.params.KKTOptions    = KKT.SolverOptions(KKT.Dense_SymPosDef);"
   ]
  },
  {
   "cell_type": "markdown",
   "metadata": {
    "slideshow": {
     "slide_type": "-"
    }
   },
   "source": [
    "Information about the linear solver is displayed in the log\n",
    "```\n",
    "Linear solver options\n",
    "  Arithmetic   : Float64\n",
    "  Backend      : LAPACK\n",
    "  System       : Normal equations\n",
    "```"
   ]
  },
  {
   "cell_type": "code",
   "execution_count": 7,
   "metadata": {
    "slideshow": {
     "slide_type": "skip"
    }
   },
   "outputs": [
    {
     "name": "stdout",
     "output_type": "stream",
     "text": [
      "\n",
      "Problem info\n",
      "  Name        : AFIRO\n",
      "  Constraints : 27\n",
      "  Variables   : 32\n",
      "  Non-zeros   : 83\n",
      "\n",
      "Reduced problem info\n",
      "  Constraints : 25  (removed 2)\n",
      "  Variables   : 32  (removed 0)\n",
      "  Non-zeros   : 81  (removed 2)\n",
      "Presolve time : 0.000s\n",
      "\n",
      "Optimizer info\n",
      "Linear solver options\n",
      "  Arithmetic   : Float64\n",
      "  Backend      : LAPACK\n",
      "  System       : Normal equations\n",
      "\n",
      " Itn            PObj            DObj     PFeas    DFeas    GFeas       Mu  Time\n",
      "   0  +8.5491918e+00  -6.2055378e+02  5.21e+02 9.00e+00 6.30e+02  1.0e+00  0.24\n",
      "   1  +6.0699927e+00  -5.9270232e+02  8.85e+01 1.61e+00 1.07e+02  2.0e-01  1.06\n",
      "   2  +1.3208949e-01  -2.8384110e+02  6.92e+00 1.27e-01 8.37e+00  2.3e-02  1.06\n",
      "   3  -5.9759550e+01  -1.2165790e+02  1.05e+00 1.92e-02 1.26e+00  3.6e-03  1.06\n",
      "   4  -2.2714680e+02  -2.5992663e+02  5.09e-01 9.37e-03 6.16e-01  1.8e-03  1.06\n",
      "   5  -3.9581036e+02  -4.0515085e+02  1.43e-01 2.62e-03 1.72e-01  5.1e-04  1.07\n",
      "   6  -4.6216012e+02  -4.6258581e+02  6.31e-03 1.16e-04 7.62e-03  2.3e-05  1.07\n",
      "   7  -4.6475159e+02  -4.6475182e+02  3.52e-06 6.48e-08 4.26e-06  1.4e-08  1.07\n",
      "   8  -4.6475314e+02  -4.6475314e+02  1.76e-09 3.24e-11 2.13e-09  7.0e-12  1.07\n",
      "Solver exited with status Trm_Optimal\n"
     ]
    }
   ],
   "source": [
    "Tulip.optimize!(tlp)"
   ]
  },
  {
   "cell_type": "markdown",
   "metadata": {
    "slideshow": {
     "slide_type": "subslide"
    }
   },
   "source": [
    "### Switching between linear solvers"
   ]
  },
  {
   "cell_type": "code",
   "execution_count": 8,
   "metadata": {
    "slideshow": {
     "slide_type": "fragment"
    }
   },
   "outputs": [],
   "source": [
    "# Solve the normal equations with CHOLMOD\n",
    "tlp.params.KKTOptions = KKT.SolverOptions(\n",
    "    KKT.CholmodSolver;\n",
    "    normal_equations=true\n",
    ");"
   ]
  },
  {
   "cell_type": "code",
   "execution_count": 9,
   "metadata": {
    "slideshow": {
     "slide_type": "skip"
    }
   },
   "outputs": [
    {
     "name": "stdout",
     "output_type": "stream",
     "text": [
      "\n",
      "Problem info\n",
      "  Name        : AFIRO\n",
      "  Constraints : 27\n",
      "  Variables   : 32\n",
      "  Non-zeros   : 83\n",
      "\n",
      "Reduced problem info\n",
      "  Constraints : 25  (removed 2)\n",
      "  Variables   : 32  (removed 0)\n",
      "  Non-zeros   : 81  (removed 2)\n",
      "Presolve time : 0.000s\n",
      "\n",
      "Optimizer info\n",
      "Linear solver options\n",
      "  Arithmetic   : Float64\n",
      "  Backend      : CHOLMOD - Cholesky\n",
      "  System       : Normal equations\n",
      "\n",
      " Itn            PObj            DObj     PFeas    DFeas    GFeas       Mu  Time\n",
      "   0  +8.5491918e+00  -6.2055378e+02  5.21e+02 9.00e+00 6.30e+02  1.0e+00  0.01\n",
      "   1  +6.0699927e+00  -5.9270232e+02  8.85e+01 1.61e+00 1.07e+02  2.0e-01  0.71\n",
      "   2  +1.3208949e-01  -2.8384110e+02  6.92e+00 1.27e-01 8.37e+00  2.3e-02  0.71\n",
      "   3  -5.9759550e+01  -1.2165790e+02  1.05e+00 1.92e-02 1.26e+00  3.6e-03  0.72\n",
      "   4  -2.2714680e+02  -2.5992663e+02  5.09e-01 9.37e-03 6.16e-01  1.8e-03  0.72\n",
      "   5  -3.9581036e+02  -4.0515085e+02  1.43e-01 2.62e-03 1.72e-01  5.1e-04  0.72\n",
      "   6  -4.6216012e+02  -4.6258581e+02  6.31e-03 1.16e-04 7.62e-03  2.3e-05  0.72\n",
      "   7  -4.6475159e+02  -4.6475182e+02  3.52e-06 6.48e-08 4.26e-06  1.4e-08  0.72\n",
      "   8  -4.6475314e+02  -4.6475314e+02  1.76e-09 3.24e-11 2.13e-09  7.0e-12  0.72\n",
      "Solver exited with status Trm_Optimal\n"
     ]
    }
   ],
   "source": [
    "Tulip.optimize!(tlp)"
   ]
  },
  {
   "cell_type": "code",
   "execution_count": 10,
   "metadata": {
    "slideshow": {
     "slide_type": "fragment"
    }
   },
   "outputs": [],
   "source": [
    "# Solve the augmented system with LDLFactorizations\n",
    "tlp.params.KKTOptions = KKT.SolverOptions(\n",
    "    KKT.LDLFact_SymQuasDef\n",
    ");"
   ]
  },
  {
   "cell_type": "code",
   "execution_count": 11,
   "metadata": {
    "slideshow": {
     "slide_type": "skip"
    }
   },
   "outputs": [
    {
     "name": "stdout",
     "output_type": "stream",
     "text": [
      "\n",
      "Problem info\n",
      "  Name        : AFIRO\n",
      "  Constraints : 27\n",
      "  Variables   : 32\n",
      "  Non-zeros   : 83\n",
      "\n",
      "Reduced problem info\n",
      "  Constraints : 25  (removed 2)\n",
      "  Variables   : 32  (removed 0)\n",
      "  Non-zeros   : 81  (removed 2)\n",
      "Presolve time : 0.000s\n",
      "\n",
      "Optimizer info\n",
      "Linear solver options\n",
      "  Arithmetic   : Float64\n",
      "  Backend      : LDLFactorizations.jl\n",
      "  System       : Augmented system\n",
      "\n",
      " Itn            PObj            DObj     PFeas    DFeas    GFeas       Mu  Time\n",
      "   0  +8.5491918e+00  -6.2055378e+02  5.21e+02 9.00e+00 6.30e+02  1.0e+00  0.01\n",
      "   1  +6.0699927e+00  -5.9270232e+02  8.85e+01 1.61e+00 1.07e+02  2.0e-01  0.69\n",
      "   2  +1.3208949e-01  -2.8384110e+02  6.92e+00 1.27e-01 8.37e+00  2.3e-02  0.70\n",
      "   3  -5.9759550e+01  -1.2165790e+02  1.05e+00 1.92e-02 1.26e+00  3.6e-03  0.70\n",
      "   4  -2.2714680e+02  -2.5992663e+02  5.09e-01 9.37e-03 6.16e-01  1.8e-03  0.70\n",
      "   5  -3.9581036e+02  -4.0515085e+02  1.43e-01 2.62e-03 1.72e-01  5.1e-04  0.70\n",
      "   6  -4.6216012e+02  -4.6258581e+02  6.31e-03 1.16e-04 7.62e-03  2.3e-05  0.70\n",
      "   7  -4.6475159e+02  -4.6475182e+02  3.52e-06 6.48e-08 4.26e-06  1.4e-08  0.70\n",
      "   8  -4.6475314e+02  -4.6475314e+02  1.76e-09 3.24e-11 2.13e-09  7.0e-12  0.70\n",
      "Solver exited with status Trm_Optimal\n"
     ]
    }
   ],
   "source": [
    "Tulip.optimize!(tlp)"
   ]
  },
  {
   "cell_type": "code",
   "execution_count": 12,
   "metadata": {
    "slideshow": {
     "slide_type": "fragment"
    }
   },
   "outputs": [],
   "source": [
    "# Solve the normal equations with a Krylov method (PR #56)\n",
    "tlp.params.KKTOptions = KKT.SolverOptions(\n",
    "    KKT.KrylovPDSolver;\n",
    "    method=Krylov.minres  # Use the MINRES method\n",
    ");"
   ]
  },
  {
   "cell_type": "code",
   "execution_count": 13,
   "metadata": {
    "slideshow": {
     "slide_type": "skip"
    }
   },
   "outputs": [
    {
     "name": "stdout",
     "output_type": "stream",
     "text": [
      "\n",
      "Problem info\n",
      "  Name        : AFIRO\n",
      "  Constraints : 27\n",
      "  Variables   : 32\n",
      "  Non-zeros   : 83\n",
      "\n",
      "Reduced problem info\n",
      "  Constraints : 25  (removed 2)\n",
      "  Variables   : 32  (removed 0)\n",
      "  Non-zeros   : 81  (removed 2)\n",
      "Presolve time : 0.000s\n",
      "\n",
      "Optimizer info\n",
      "Linear solver options\n",
      "  Arithmetic   : Float64\n",
      "  Backend      : Krylov (minres)\n",
      "  System       : Normal equations\n",
      "\n",
      " Itn            PObj            DObj     PFeas    DFeas    GFeas       Mu  Time\n",
      "   0  +8.5491918e+00  -6.2055378e+02  5.21e+02 9.00e+00 6.30e+02  1.0e+00  0.04\n",
      "   1  +6.0708409e+00  -5.9269998e+02  8.85e+01 1.61e+00 1.07e+02  2.0e-01  0.98\n",
      "   2  +1.3154772e-01  -2.8388880e+02  6.93e+00 1.27e-01 8.37e+00  2.3e-02  0.99\n",
      "   3  -5.9358155e+01  -1.2176637e+02  1.05e+00 1.94e-02 1.27e+00  3.6e-03  0.99\n",
      "   4  -2.1826956e+02  -2.5269774e+02  5.39e-01 9.92e-03 6.52e-01  1.9e-03  0.99\n",
      "   5  -4.0076754e+02  -4.1236735e+02  1.91e-01 3.51e-03 2.30e-01  7.0e-04  0.99\n",
      "   6  -4.4361690e+02  -4.4723522e+02  5.54e-02 1.02e-03 6.70e-02  2.0e-04  0.99\n",
      "   7  -4.5102688e+02  -4.5332132e+02  6.68e-02 6.60e-04 4.34e-02  1.3e-04  0.99\n",
      "   8  -4.5792959e+02  -4.5899978e+02  1.49e-01 3.30e-04 2.17e-02  7.2e-05  0.99\n",
      "   9  -4.6394979e+02  -4.6431158e+02  7.76e-02 1.11e-04 7.32e-03  3.1e-05  0.99\n",
      "  10  -4.6475603e+02  -4.6475935e+02  1.11e-03 1.37e-06 9.03e-05  6.8e-07  0.99\n",
      "  11  -4.6475314e+02  -4.6475315e+02  8.58e-07 1.08e-09 7.08e-08  5.3e-10  1.00\n",
      "  12  -4.6475314e+02  -4.6475314e+02  4.31e-10 5.39e-13 3.54e-11  2.7e-13  1.00\n",
      "Solver exited with status Trm_Optimal\n"
     ]
    }
   ],
   "source": [
    "Tulip.optimize!(tlp)"
   ]
  },
  {
   "cell_type": "markdown",
   "metadata": {
    "slideshow": {
     "slide_type": "subslide"
    }
   },
   "source": [
    "### Using custom routines\n",
    "\n",
    "The [UnitBlockAngular](https://github.com/mtanneau/UnitBlockAngular.jl) package defines\n",
    "* Custom data structure `UnitBlockAngularMatrix <: AbstractMatrix`\n",
    "* Custom linear solver `UnitBlockAngularFactor <: AbstractKKTSolver`\n",
    "* Specialized matrix-vector and factorization routines"
   ]
  },
  {
   "cell_type": "code",
   "execution_count": 14,
   "metadata": {
    "slideshow": {
     "slide_type": "skip"
    }
   },
   "outputs": [],
   "source": [
    "tlp = Tulip.Model{Float64}()  # Double-precision\n",
    "Tulip.load_problem!(tlp, \"dat/DER_24_1024_43.mps\")\n",
    "tlp.params.OutputLevel = 1\n",
    "tlp.params.Presolve = 0;"
   ]
  },
  {
   "cell_type": "code",
   "execution_count": 15,
   "metadata": {
    "slideshow": {
     "slide_type": "skip"
    }
   },
   "outputs": [
    {
     "name": "stdout",
     "output_type": "stream",
     "text": [
      "\n",
      "Problem info\n",
      "  Name        : \n",
      "  Constraints : 1048\n",
      "  Variables   : 6493\n",
      "  Non-zeros   : 146136\n",
      "\n",
      "Optimizer info\n",
      "Linear solver options\n",
      "  Arithmetic   : Float64\n",
      "  Backend      : CHOLMOD\n",
      "  System       : Augmented system\n",
      "\n",
      " Itn            PObj            DObj     PFeas    DFeas    GFeas       Mu  Time\n",
      "   0  +5.8378084e+04  -1.4745600e+05  4.29e+04 9.99e+02 2.06e+05  1.0e+00  0.00\n",
      "   1  +1.9103365e+05  -1.3692291e+04  3.50e+03 8.17e+01 1.68e+04  8.4e-02  0.02\n",
      "   2  +4.8472124e+04  -1.3235046e+05  1.52e+02 3.55e+00 7.30e+02  3.7e-03  0.03\n",
      "   3  +3.2569271e+04  -1.1690203e+05  1.10e+02 2.57e+00 5.28e+02  2.7e-03  0.05\n",
      "   4  +1.5178802e+04  -6.9405091e+04  7.98e+01 1.86e+00 3.83e+02  2.0e-03  0.07\n",
      "   5  +7.0793000e+03  -1.7684416e+04  4.27e+01 9.96e-01 2.05e+02  1.1e-03  0.08\n",
      "   6  +2.0952835e+03  -2.5591281e+03  1.03e+01 2.40e-01 4.94e+01  2.6e-04  0.09\n",
      "   7  +1.5346392e+03  +1.2757655e+03  6.34e-01 1.48e-02 3.04e+00  1.6e-05  0.10\n",
      "   8  +1.4992564e+03  +1.4197355e+03  1.95e-01 4.55e-03 9.37e-01  5.0e-06  0.14\n",
      "   9  +1.4893292e+03  +1.4554099e+03  8.33e-02 1.94e-03 4.00e-01  2.1e-06  0.15\n",
      "  10  +1.4837431e+03  +1.4675599e+03  3.97e-02 9.27e-04 1.91e-01  1.0e-06  0.16\n",
      "  11  +1.4799912e+03  +1.4723189e+03  1.88e-02 4.39e-04 9.03e-02  4.8e-07  0.17\n",
      "  12  +1.4783128e+03  +1.4736240e+03  1.15e-02 2.68e-04 5.52e-02  2.9e-07  0.26\n",
      "  13  +1.4761548e+03  +1.4745394e+03  3.96e-03 9.24e-05 1.90e-02  1.0e-07  0.27\n",
      "  14  +1.4752741e+03  +1.4745418e+03  1.80e-03 4.19e-05 8.61e-03  4.6e-08  0.28\n",
      "  15  +1.4748956e+03  +1.4744969e+03  9.77e-04 2.28e-05 4.69e-03  2.5e-08  0.30\n",
      "  16  +1.4747176e+03  +1.4744623e+03  6.25e-04 1.46e-05 3.00e-03  1.6e-08  0.37\n",
      "  17  +1.4746015e+03  +1.4744438e+03  3.86e-04 9.01e-06 1.85e-03  9.8e-09  0.38\n",
      "  18  +1.4745120e+03  +1.4744184e+03  2.29e-04 5.35e-06 1.10e-03  5.8e-09  0.39\n",
      "  19  +1.4744632e+03  +1.4744023e+03  1.49e-04 3.48e-06 7.16e-04  3.8e-09  0.40\n",
      "  20  +1.4744324e+03  +1.4743913e+03  1.01e-04 2.35e-06 4.83e-04  2.6e-09  0.42\n",
      "  21  +1.4743946e+03  +1.4743773e+03  4.24e-05 9.88e-07 2.03e-04  1.1e-09  0.43\n",
      "  22  +1.4743818e+03  +1.4743722e+03  2.36e-05 5.51e-07 1.13e-04  6.0e-10  0.44\n",
      "  23  +1.4743800e+03  +1.4743714e+03  2.11e-05 4.92e-07 1.01e-04  5.4e-10  0.45\n",
      "  24  +1.4743754e+03  +1.4743694e+03  1.46e-05 3.41e-07 7.00e-05  3.7e-10  0.46\n",
      "  25  +1.4743740e+03  +1.4743688e+03  1.27e-05 2.97e-07 6.12e-05  3.2e-10  0.47\n",
      "  26  +1.4743708e+03  +1.4743674e+03  8.16e-06 1.90e-07 3.92e-05  2.1e-10  0.48\n",
      "  27  +1.4743693e+03  +1.4743668e+03  6.11e-06 1.42e-07 2.93e-05  1.6e-10  0.50\n",
      "  28  +1.4743676e+03  +1.4743662e+03  3.47e-06 8.10e-08 1.67e-05  8.8e-11  0.52\n",
      "  29  +1.4743665e+03  +1.4743657e+03  2.00e-06 4.67e-08 9.60e-06  5.1e-11  0.53\n",
      "  30  +1.4743651e+03  +1.4743650e+03  1.74e-07 4.07e-09 8.36e-07  4.4e-12  0.55\n",
      "  31  +1.4743651e+03  +1.4743650e+03  1.71e-07 4.00e-09 8.23e-07  4.4e-12  0.56\n",
      "  32  +1.4743650e+03  +1.4743650e+03  1.23e-08 2.87e-10 5.90e-08  3.1e-13  0.57\n",
      "  33  +1.4743650e+03  +1.4743650e+03  2.00e-10 4.38e-11 9.60e-10  5.1e-15  0.59\n",
      "Solver exited with status Trm_Optimal\n"
     ]
    }
   ],
   "source": [
    "# Solve with default linear algebra\n",
    "Tulip.optimize!(tlp)"
   ]
  },
  {
   "cell_type": "code",
   "execution_count": 16,
   "metadata": {
    "slideshow": {
     "slide_type": "skip"
    }
   },
   "outputs": [],
   "source": [
    "using UnitBlockAngular"
   ]
  },
  {
   "cell_type": "code",
   "execution_count": 17,
   "metadata": {
    "slideshow": {
     "slide_type": "fragment"
    }
   },
   "outputs": [],
   "source": [
    "# Store A as a unit block-angular matrix with 24 linking constraints,\n",
    "# 72 linking variables, 6421 columns and 1024 blocks\n",
    "tlp.params.MatrixOptions = Tulip.TLA.MatrixOptions(\n",
    "    UnitBlockAngularMatrix,\n",
    "    m0=24, n0=72, n=6421 , R=1024\n",
    ")\n",
    "\n",
    "# Select custom linear solver\n",
    "tlp.params.KKTOptions = Tulip.KKT.SolverOptions(UnitBlockAngularFactor);"
   ]
  },
  {
   "cell_type": "code",
   "execution_count": 18,
   "metadata": {
    "slideshow": {
     "slide_type": "skip"
    }
   },
   "outputs": [
    {
     "name": "stdout",
     "output_type": "stream",
     "text": [
      "\n",
      "Problem info\n",
      "  Name        : \n",
      "  Constraints : 1048\n",
      "  Variables   : 6493\n",
      "  Non-zeros   : 146136\n",
      "\n",
      "Optimizer info\n",
      "Linear solver options\n",
      "  Arithmetic   : Float64\n",
      "  Backend      : UnitBlockAngular\n",
      "  System       : Normal equations\n",
      "\n",
      " Itn            PObj            DObj     PFeas    DFeas    GFeas       Mu  Time\n",
      "   0  +5.8378084e+04  -1.4745600e+05  4.29e+04 9.99e+02 2.06e+05  1.0e+00  0.28\n",
      "   1  +1.9103365e+05  -1.3692291e+04  3.50e+03 8.17e+01 1.68e+04  8.4e-02  1.41\n",
      "   2  +4.8472124e+04  -1.3235046e+05  1.52e+02 3.55e+00 7.30e+02  3.7e-03  1.42\n",
      "   3  +3.2569271e+04  -1.1690203e+05  1.10e+02 2.57e+00 5.28e+02  2.7e-03  1.42\n",
      "   4  +1.5178802e+04  -6.9405091e+04  7.98e+01 1.86e+00 3.83e+02  2.0e-03  1.42\n",
      "   5  +7.0793000e+03  -1.7684416e+04  4.27e+01 9.96e-01 2.05e+02  1.1e-03  1.43\n",
      "   6  +2.0952835e+03  -2.5591281e+03  1.03e+01 2.40e-01 4.94e+01  2.6e-04  1.43\n",
      "   7  +1.5346392e+03  +1.2757655e+03  6.34e-01 1.48e-02 3.04e+00  1.6e-05  1.44\n",
      "   8  +1.4992564e+03  +1.4197355e+03  1.95e-01 4.55e-03 9.37e-01  5.0e-06  1.44\n",
      "   9  +1.4893292e+03  +1.4554099e+03  8.33e-02 1.94e-03 4.00e-01  2.1e-06  1.44\n",
      "  10  +1.4837431e+03  +1.4675599e+03  3.97e-02 9.27e-04 1.91e-01  1.0e-06  1.45\n",
      "  11  +1.4799912e+03  +1.4723189e+03  1.88e-02 4.39e-04 9.03e-02  4.8e-07  1.45\n",
      "  12  +1.4783128e+03  +1.4736240e+03  1.15e-02 2.68e-04 5.52e-02  2.9e-07  1.46\n",
      "  13  +1.4761548e+03  +1.4745394e+03  3.96e-03 9.24e-05 1.90e-02  1.0e-07  1.46\n",
      "  14  +1.4752741e+03  +1.4745418e+03  1.80e-03 4.19e-05 8.61e-03  4.6e-08  1.47\n",
      "  15  +1.4748956e+03  +1.4744969e+03  9.77e-04 2.28e-05 4.69e-03  2.5e-08  1.47\n",
      "  16  +1.4747176e+03  +1.4744623e+03  6.25e-04 1.46e-05 3.00e-03  1.6e-08  1.47\n",
      "  17  +1.4746015e+03  +1.4744438e+03  3.86e-04 9.01e-06 1.85e-03  9.8e-09  1.47\n",
      "  18  +1.4745120e+03  +1.4744184e+03  2.29e-04 5.35e-06 1.10e-03  5.8e-09  1.48\n",
      "  19  +1.4744632e+03  +1.4744023e+03  1.49e-04 3.48e-06 7.16e-04  3.8e-09  1.48\n",
      "  20  +1.4744324e+03  +1.4743913e+03  1.01e-04 2.35e-06 4.83e-04  2.6e-09  1.48\n",
      "  21  +1.4743946e+03  +1.4743773e+03  4.24e-05 9.88e-07 2.03e-04  1.1e-09  1.49\n",
      "  22  +1.4743818e+03  +1.4743722e+03  2.36e-05 5.51e-07 1.13e-04  6.0e-10  1.49\n",
      "  23  +1.4743800e+03  +1.4743714e+03  2.11e-05 4.92e-07 1.01e-04  5.4e-10  1.50\n",
      "  24  +1.4743754e+03  +1.4743694e+03  1.46e-05 3.41e-07 7.00e-05  3.7e-10  1.50\n",
      "  25  +1.4743740e+03  +1.4743688e+03  1.27e-05 2.97e-07 6.12e-05  3.2e-10  1.50\n",
      "  26  +1.4743708e+03  +1.4743674e+03  8.16e-06 1.90e-07 3.92e-05  2.1e-10  1.50\n",
      "  27  +1.4743693e+03  +1.4743668e+03  6.11e-06 1.42e-07 2.93e-05  1.6e-10  1.51\n",
      "  28  +1.4743676e+03  +1.4743662e+03  3.47e-06 8.10e-08 1.67e-05  8.8e-11  1.51\n",
      "  29  +1.4743665e+03  +1.4743657e+03  2.00e-06 4.67e-08 9.60e-06  5.1e-11  1.51\n",
      "  30  +1.4743651e+03  +1.4743650e+03  1.74e-07 4.07e-09 8.36e-07  4.4e-12  1.52\n",
      "  31  +1.4743651e+03  +1.4743650e+03  1.71e-07 4.00e-09 8.23e-07  4.4e-12  1.52\n",
      "  32  +1.4743650e+03  +1.4743650e+03  1.23e-08 2.87e-10 5.90e-08  3.1e-13  1.53\n",
      "  33  +1.4743650e+03  +1.4743650e+03  2.01e-10 4.38e-11 9.60e-10  5.1e-15  1.53\n",
      "Solver exited with status Trm_Optimal\n"
     ]
    }
   ],
   "source": [
    "tlp.params.Presolve = 0\n",
    "Tulip.optimize!(tlp)"
   ]
  },
  {
   "cell_type": "markdown",
   "metadata": {
    "slideshow": {
     "slide_type": "subslide"
    }
   },
   "source": [
    "Default linear algebra\n",
    "```\n",
    "  Backend      : CHOLMOD\n",
    "  System       : Augmented system\n",
    "  \n",
    " Itn            PObj            DObj     PFeas    DFeas    GFeas       Mu  Time\n",
    "...\n",
    "  33  +1.4743650e+03  +1.4743650e+03  2.00e-10 4.38e-11 9.60e-10  5.1e-15  0.54\n",
    "Solver exited with status Trm_Optimal\n",
    "```"
   ]
  },
  {
   "cell_type": "markdown",
   "metadata": {
    "slideshow": {
     "slide_type": "fragment"
    }
   },
   "source": [
    "Specialized linear algebra\n",
    "```\n",
    "  Backend      : UnitBlockAngular\n",
    "  System       : Normal equations\n",
    "  \n",
    " Itn            PObj            DObj     PFeas    DFeas    GFeas       Mu  Time\n",
    "...\n",
    "  33  +1.4743650e+03  +1.4743650e+03  2.01e-10 4.38e-11 9.60e-10  5.1e-15  0.14\n",
    "Solver exited with status Trm_Optimal\n",
    "```"
   ]
  },
  {
   "cell_type": "markdown",
   "metadata": {
    "slideshow": {
     "slide_type": "fragment"
    }
   },
   "source": [
    "265 lines of code --> up to 10x speedup on structured problems"
   ]
  },
  {
   "cell_type": "markdown",
   "metadata": {
    "slideshow": {
     "slide_type": "slide"
    }
   },
   "source": [
    "# Implementation\n",
    "\n",
    "| module | #loc |\n",
    "|:--|---:|\n",
    "| Core | 594\n",
    "| Presolve | 1080\n",
    "| KKT | 609\n",
    "| IPM | 748\n",
    "| Interfaces | 1011\n",
    "| **Total** | **4240**"
   ]
  },
  {
   "cell_type": "markdown",
   "metadata": {
    "slideshow": {
     "slide_type": "fragment"
    }
   },
   "source": [
    "$\\rightarrow$ Specialized linear algebra is only ~5% of total code 😱"
   ]
  },
  {
   "cell_type": "markdown",
   "metadata": {
    "slideshow": {
     "slide_type": "subslide"
    }
   },
   "source": [
    "## Model representation\n",
    "\n",
    "3 representations of the same LP."
   ]
  },
  {
   "cell_type": "markdown",
   "metadata": {
    "slideshow": {
     "slide_type": "fragment"
    }
   },
   "source": [
    "* Original (user-facing) LP\n",
    "\n",
    "\\begin{align}\n",
    "    \\min_{x} \\ \\ \\ \n",
    "    & c^{T}x + c_{0}\\\\\n",
    "    s.t. \\ \\ \\ \n",
    "    & l_{r} \\leq Ax \\leq u_{r}\\\\\n",
    "    & l_{x} \\leq x \\leq u_{x}\n",
    "\\end{align}\n",
    "\n",
    "* Presolved problem: same as above, but some rows/columns removed\n",
    "\n",
    "* Standard form LP (internal)\n",
    "\n",
    "\\begin{align}\n",
    "    \\min_{\\tilde{x}} \\ \\ \\ \n",
    "    & \\tilde{c}^{T} \\tilde{x} + \\tilde{c}_{0}\\\\\n",
    "    s.t. \\ \\ \\ \n",
    "    & \\tilde{A} \\tilde{x} = \\tilde{b}\\\\\n",
    "    & 0 \\leq \\tilde{x} \\leq \\tilde{u}\n",
    "\\end{align}"
   ]
  },
  {
   "cell_type": "markdown",
   "metadata": {
    "slideshow": {
     "slide_type": "subslide"
    }
   },
   "source": [
    "Internal workflow is\n",
    "\n",
    "1. User inputs the model and calls `optimize!`\n",
    "2. Pre-solve and extract reduced problem\n",
    "3. Convert reduced problem to standard form\n",
    "4. Instantiate matrix\n",
    "5. Instantiate KKT solver\n",
    "6. Optimize\n",
    "7. Post-solve"
   ]
  },
  {
   "cell_type": "markdown",
   "metadata": {
    "slideshow": {
     "slide_type": "subslide"
    }
   },
   "source": [
    "## Matrix instantiation\n",
    "\n",
    "The (standard form) matrix $A$ is instantiated by calling\n",
    "```julia\n",
    "A = construct_matrix(Ta, m, n, aI, aJ, aV; kwargs...)\n",
    "```\n",
    "\n",
    "This method needs to be extended for custom matrix types `Ta`."
   ]
  },
  {
   "cell_type": "markdown",
   "metadata": {
    "slideshow": {
     "slide_type": "fragment"
    }
   },
   "source": [
    "Example for `SparseMatrixCSC`:\n",
    "```julia\n",
    "construct_matrix(\n",
    "    ::Type{SparseMatrixCSC}, m::Int, n::Int,\n",
    "    aI::Vector{Int}, aJ::Vector{Int}, aV::Vector{Tv}\n",
    ") where{Tv<:Real} = sparse(aI, aJ, aV, m, n)\n",
    "```"
   ]
  },
  {
   "cell_type": "code",
   "execution_count": 19,
   "metadata": {
    "slideshow": {
     "slide_type": "subslide"
    }
   },
   "outputs": [
    {
     "data": {
      "text/plain": [
       "2×4 SparseMatrixCSC{Float64,Int64} with 3 stored entries:\n",
       "  [1, 1]  =  1.1\n",
       "  [2, 2]  =  2.2\n",
       "  [2, 3]  =  2.3"
      ]
     },
     "execution_count": 19,
     "metadata": {},
     "output_type": "execute_result"
    }
   ],
   "source": [
    "m, n = 2, 4\n",
    "aI = [1, 2, 2]\n",
    "aJ = [1, 2, 3]\n",
    "aV = [1.1, 2.2, 2.3]\n",
    "\n",
    "A = construct_matrix(SparseMatrixCSC, m, n, aI, aJ, aV)"
   ]
  },
  {
   "cell_type": "code",
   "execution_count": 20,
   "metadata": {
    "slideshow": {
     "slide_type": "-"
    }
   },
   "outputs": [
    {
     "data": {
      "text/plain": [
       "2×4 Array{Float64,2}:\n",
       " 1.1  0.0  0.0  0.0\n",
       " 0.0  2.2  2.3  0.0"
      ]
     },
     "execution_count": 20,
     "metadata": {},
     "output_type": "execute_result"
    }
   ],
   "source": [
    "Matrix(A)"
   ]
  },
  {
   "cell_type": "markdown",
   "metadata": {
    "slideshow": {
     "slide_type": "subslide"
    }
   },
   "source": [
    "## Linear systems\n",
    "\n",
    "\n",
    "Each IPM iteration comprises\n",
    "* One factorization (expensive)\n",
    "* A few triangular solves\n",
    "* Several matrix-vector products\n",
    "* Many vector operations\n",
    "\n",
    "$\\Longrightarrow$ Persistent data structures to re-use storage and factorization + dispatch"
   ]
  },
  {
   "cell_type": "markdown",
   "metadata": {
    "slideshow": {
     "slide_type": "subslide"
    }
   },
   "source": [
    "### Current implementation\n",
    "\n",
    "Root type `AbstractKKTSolver` and 3 methods\n",
    "* `KKT.setup` (once per `optimize!`): instantiate the KKT solver\n",
    "* `KKT.update!(kkt, θ⁻¹, rp, rd)` (once per iteration): update data and factorization\n",
    "* `KKT.solve!(Δx, Δy, kkt, ξp, ξd)` (multiple times per iteration): solve the augmented system"
   ]
  },
  {
   "cell_type": "markdown",
   "metadata": {
    "slideshow": {
     "slide_type": "fragment"
    }
   },
   "source": [
    "KKT solvers are chosen via the `KKTOptions` parameter\n",
    "```julia\n",
    "tlp.params.KKTOptions = KKT.SolverOptions(\n",
    "    KKT.KrylovPDSolver;\n",
    "    method=Krylov.minres\n",
    ")\n",
    "```"
   ]
  },
  {
   "cell_type": "markdown",
   "metadata": {
    "slideshow": {
     "slide_type": "subslide"
    }
   },
   "source": [
    "### `KKT.setup`\n",
    "\n",
    "\n",
    "Called after presolve and matrix instantiation as\n",
    "\n",
    "```julia\n",
    "KKT.setup(params.KKTOptions.Ts, A; params.KKTOptions.options...)\n",
    "```"
   ]
  },
  {
   "cell_type": "markdown",
   "metadata": {
    "slideshow": {
     "slide_type": "fragment"
    }
   },
   "source": [
    "If no specialized dispatch, defaults to\n",
    "```\n",
    "setup(Ts, args...; kwargs...) = Ts(args...; kwargs...)\n",
    "```\n",
    " $\\rightarrow$ `KKTOptions` is basically a factory\n",
    " \n",
    " Custom KKT solvers must implement\n",
    "```julia\n",
    "MyKKTSolver(A; kwargs...)\n",
    "```"
   ]
  },
  {
   "cell_type": "code",
   "execution_count": 21,
   "metadata": {
    "slideshow": {
     "slide_type": "skip"
    }
   },
   "outputs": [
    {
     "data": {
      "text/latex": [
       "\\begin{verbatim}\n",
       "setup(T::Type{<:AbstractKKTSolver}, args...; kwargs...)\n",
       "\\end{verbatim}\n",
       "Instantiate a KKT solver object.\n",
       "\n"
      ],
      "text/markdown": [
       "```\n",
       "setup(T::Type{<:AbstractKKTSolver}, args...; kwargs...)\n",
       "```\n",
       "\n",
       "Instantiate a KKT solver object.\n"
      ],
      "text/plain": [
       "\u001b[36m  setup(T::Type{<:AbstractKKTSolver}, args...; kwargs...)\u001b[39m\n",
       "\n",
       "  Instantiate a KKT solver object."
      ]
     },
     "execution_count": 21,
     "metadata": {},
     "output_type": "execute_result"
    }
   ],
   "source": [
    "?KKT.setup"
   ]
  },
  {
   "cell_type": "markdown",
   "metadata": {
    "slideshow": {
     "slide_type": "subslide"
    }
   },
   "source": [
    "### `KKT.update!`\n",
    "\n",
    "Called once per IPM iteration (unless numerical issues) as\n",
    "```julia\n",
    "KKT.update!(kkt, θ⁻¹, regP, regD)\n",
    "```\n",
    "\n",
    "After calling `update!`, `kkt` can be used to solve the augmented system\n",
    "\n",
    "$$\n",
    "    \\begin{bmatrix}\n",
    "        -(\\Theta^{-1} + R_{p}) & A^{T}\\\\\n",
    "        A & R_{d}\n",
    "    \\end{bmatrix}\n",
    "    \\begin{bmatrix}\n",
    "        \\Delta x\\\\\n",
    "        \\Delta y\n",
    "    \\end{bmatrix}\n",
    "    =\n",
    "    \\begin{bmatrix}\n",
    "        \\xi_{p}\\\\\n",
    "        \\xi_{d}\n",
    "    \\end{bmatrix}\n",
    "$$\n",
    "\n",
    "Primal-dual regularizations are handled by the IPM algorithm."
   ]
  },
  {
   "cell_type": "markdown",
   "metadata": {
    "slideshow": {
     "slide_type": "fragment"
    }
   },
   "source": [
    "Direct methods: update the factorization\n",
    "\n",
    "Iterative methods: update the preconditioner"
   ]
  },
  {
   "cell_type": "code",
   "execution_count": 22,
   "metadata": {
    "slideshow": {
     "slide_type": "skip"
    }
   },
   "outputs": [
    {
     "data": {
      "text/latex": [
       "\\begin{verbatim}\n",
       "update!(kkt, θinv, regP, regD)\n",
       "\\end{verbatim}\n",
       "Update internal data and factorization/pre-conditioner.\n",
       "\n",
       "After this call, \\texttt{kkt} can be used to solve the augmented system\n",
       "\n",
       "\\begin{verbatim}\n",
       "    [-(Θ⁻¹ + Rp)   Aᵀ] [dx] = [ξd]\n",
       "    [   A          Rd] [dy]   [ξp]\n",
       "\\end{verbatim}\n",
       "for given right-hand sides \\texttt{ξd} and \\texttt{ξp}.\n",
       "\n",
       "\\section{Arguments}\n",
       "\\begin{itemize}\n",
       "\\item \\texttt{kkt::AbstractKKTSolver\\{Tv\\}}: the KKT solver object\n",
       "\n",
       "\n",
       "\\item \\texttt{θinv::AbstractVector\\{Tv\\}}: $θ⁻¹$\n",
       "\n",
       "\n",
       "\\item \\texttt{regP::AbstractVector\\{Tv\\}}: primal regularizations\n",
       "\n",
       "\n",
       "\\item \\texttt{regD::AbstractVector\\{Tv\\}}: dual regularizations\n",
       "\n",
       "\\end{itemize}\n",
       "\\rule{\\textwidth}{1pt}\n",
       "\\begin{verbatim}\n",
       "update!(kkt::Dense_SymPosDef{<:Real}, θ, regP, regD)\n",
       "\\end{verbatim}\n",
       "Compute normal equations system matrix and update Cholesky factorization.\n",
       "\n",
       "Uses Julia's generic linear algebra.\n",
       "\n",
       "\\rule{\\textwidth}{1pt}\n",
       "\\begin{verbatim}\n",
       "update!(kkt::Dense_SymPosDef{<:BlasReal}, θ, regP, regD)\n",
       "\\end{verbatim}\n",
       "Compute normal equations system matrix and update Cholesky factorization.\n",
       "\n",
       "Uses BLAS and LAPACK routines.\n",
       "\n",
       "\\rule{\\textwidth}{1pt}\n",
       "\\begin{verbatim}\n",
       "update!(kkt, θ, regP, regD)\n",
       "\\end{verbatim}\n",
       "Update LDLᵀ factorization of the augmented system.\n",
       "\n",
       "Update diagonal scaling $\\theta$, primal-dual regularizations, and re-compute     the factorization. Throws a \\texttt{PosDefException} if matrix is not quasi-definite.\n",
       "\n",
       "\\rule{\\textwidth}{1pt}\n",
       "\\begin{verbatim}\n",
       "update!(kkt, θ, regP, regD)\n",
       "\\end{verbatim}\n",
       "Compute normal equation system matrix, and update the factorization.\n",
       "\n",
       "\\rule{\\textwidth}{1pt}\n",
       "\\begin{verbatim}\n",
       "update!(kkt, θ, regP, regD)\n",
       "\\end{verbatim}\n",
       "Update LDLᵀ factorization of the augmented system.\n",
       "\n",
       "Update diagonal scaling $\\theta$, primal-dual regularizations, and re-compute     the factorization. Throws a \\texttt{PosDefException} if matrix is not quasi-definite.\n",
       "\n",
       "\\rule{\\textwidth}{1pt}\n",
       "\\begin{verbatim}\n",
       "update!(kkt::KrylovPDSolver, θ, regP, regD)\n",
       "\\end{verbatim}\n",
       "Update diagonal scaling $θ$ and primal-dual regularizations.\n",
       "\n"
      ],
      "text/markdown": [
       "```\n",
       "update!(kkt, θinv, regP, regD)\n",
       "```\n",
       "\n",
       "Update internal data and factorization/pre-conditioner.\n",
       "\n",
       "After this call, `kkt` can be used to solve the augmented system\n",
       "\n",
       "```\n",
       "    [-(Θ⁻¹ + Rp)   Aᵀ] [dx] = [ξd]\n",
       "    [   A          Rd] [dy]   [ξp]\n",
       "```\n",
       "\n",
       "for given right-hand sides `ξd` and `ξp`.\n",
       "\n",
       "# Arguments\n",
       "\n",
       "  * `kkt::AbstractKKTSolver{Tv}`: the KKT solver object\n",
       "  * `θinv::AbstractVector{Tv}`: $θ⁻¹$\n",
       "  * `regP::AbstractVector{Tv}`: primal regularizations\n",
       "  * `regD::AbstractVector{Tv}`: dual regularizations\n",
       "\n",
       "---\n",
       "\n",
       "```\n",
       "update!(kkt::Dense_SymPosDef{<:Real}, θ, regP, regD)\n",
       "```\n",
       "\n",
       "Compute normal equations system matrix and update Cholesky factorization.\n",
       "\n",
       "Uses Julia's generic linear algebra.\n",
       "\n",
       "---\n",
       "\n",
       "```\n",
       "update!(kkt::Dense_SymPosDef{<:BlasReal}, θ, regP, regD)\n",
       "```\n",
       "\n",
       "Compute normal equations system matrix and update Cholesky factorization.\n",
       "\n",
       "Uses BLAS and LAPACK routines.\n",
       "\n",
       "---\n",
       "\n",
       "```\n",
       "update!(kkt, θ, regP, regD)\n",
       "```\n",
       "\n",
       "Update LDLᵀ factorization of the augmented system.\n",
       "\n",
       "Update diagonal scaling $\\theta$, primal-dual regularizations, and re-compute     the factorization. Throws a `PosDefException` if matrix is not quasi-definite.\n",
       "\n",
       "---\n",
       "\n",
       "```\n",
       "update!(kkt, θ, regP, regD)\n",
       "```\n",
       "\n",
       "Compute normal equation system matrix, and update the factorization.\n",
       "\n",
       "---\n",
       "\n",
       "```\n",
       "update!(kkt, θ, regP, regD)\n",
       "```\n",
       "\n",
       "Update LDLᵀ factorization of the augmented system.\n",
       "\n",
       "Update diagonal scaling $\\theta$, primal-dual regularizations, and re-compute     the factorization. Throws a `PosDefException` if matrix is not quasi-definite.\n",
       "\n",
       "---\n",
       "\n",
       "```\n",
       "update!(kkt::KrylovPDSolver, θ, regP, regD)\n",
       "```\n",
       "\n",
       "Update diagonal scaling $θ$ and primal-dual regularizations.\n"
      ],
      "text/plain": [
       "\u001b[36m  update!(kkt, θinv, regP, regD)\u001b[39m\n",
       "\n",
       "  Update internal data and factorization/pre-conditioner.\n",
       "\n",
       "  After this call, \u001b[36mkkt\u001b[39m can be used to solve the augmented system\n",
       "\n",
       "\u001b[36m      [-(Θ⁻¹ + Rp)   Aᵀ] [dx] = [ξd]\u001b[39m\n",
       "\u001b[36m      [   A          Rd] [dy]   [ξp]\u001b[39m\n",
       "\n",
       "  for given right-hand sides \u001b[36mξd\u001b[39m and \u001b[36mξp\u001b[39m.\n",
       "\n",
       "\u001b[1m  Arguments\u001b[22m\n",
       "\u001b[1m  ≡≡≡≡≡≡≡≡≡≡≡\u001b[22m\n",
       "\n",
       "    •    \u001b[36mkkt::AbstractKKTSolver{Tv}\u001b[39m: the KKT solver object\n",
       "\n",
       "    •    \u001b[36mθinv::AbstractVector{Tv}\u001b[39m: \u001b[35mθ⁻¹\u001b[39m\n",
       "\n",
       "    •    \u001b[36mregP::AbstractVector{Tv}\u001b[39m: primal regularizations\n",
       "\n",
       "    •    \u001b[36mregD::AbstractVector{Tv}\u001b[39m: dual regularizations\n",
       "\n",
       "  ────────────────────────────────────────────────────────────────────────────\n",
       "\n",
       "\u001b[36m  update!(kkt::Dense_SymPosDef{<:Real}, θ, regP, regD)\u001b[39m\n",
       "\n",
       "  Compute normal equations system matrix and update Cholesky factorization.\n",
       "\n",
       "  Uses Julia's generic linear algebra.\n",
       "\n",
       "  ────────────────────────────────────────────────────────────────────────────\n",
       "\n",
       "\u001b[36m  update!(kkt::Dense_SymPosDef{<:BlasReal}, θ, regP, regD)\u001b[39m\n",
       "\n",
       "  Compute normal equations system matrix and update Cholesky factorization.\n",
       "\n",
       "  Uses BLAS and LAPACK routines.\n",
       "\n",
       "  ────────────────────────────────────────────────────────────────────────────\n",
       "\n",
       "\u001b[36m  update!(kkt, θ, regP, regD)\u001b[39m\n",
       "\n",
       "  Update LDLᵀ factorization of the augmented system.\n",
       "\n",
       "  Update diagonal scaling \u001b[35m\\theta\u001b[39m, primal-dual regularizations, and re-compute\n",
       "  the factorization. Throws a \u001b[36mPosDefException\u001b[39m if matrix is not quasi-definite.\n",
       "\n",
       "  ────────────────────────────────────────────────────────────────────────────\n",
       "\n",
       "\u001b[36m  update!(kkt, θ, regP, regD)\u001b[39m\n",
       "\n",
       "  Compute normal equation system matrix, and update the factorization.\n",
       "\n",
       "  ────────────────────────────────────────────────────────────────────────────\n",
       "\n",
       "\u001b[36m  update!(kkt, θ, regP, regD)\u001b[39m\n",
       "\n",
       "  Update LDLᵀ factorization of the augmented system.\n",
       "\n",
       "  Update diagonal scaling \u001b[35m\\theta\u001b[39m, primal-dual regularizations, and re-compute\n",
       "  the factorization. Throws a \u001b[36mPosDefException\u001b[39m if matrix is not quasi-definite.\n",
       "\n",
       "  ────────────────────────────────────────────────────────────────────────────\n",
       "\n",
       "\u001b[36m  update!(kkt::KrylovPDSolver, θ, regP, regD)\u001b[39m\n",
       "\n",
       "  Update diagonal scaling \u001b[35mθ\u001b[39m and primal-dual regularizations."
      ]
     },
     "execution_count": 22,
     "metadata": {},
     "output_type": "execute_result"
    }
   ],
   "source": [
    "?KKT.update!"
   ]
  },
  {
   "cell_type": "markdown",
   "metadata": {
    "slideshow": {
     "slide_type": "subslide"
    }
   },
   "source": [
    "### `KKT.solve!`\n",
    "\n",
    "Called multiple times per iteration.\n",
    "Solves the augmented system."
   ]
  },
  {
   "cell_type": "markdown",
   "metadata": {
    "slideshow": {
     "slide_type": "slide"
    }
   },
   "source": [
    "# Some lessons learned"
   ]
  },
  {
   "cell_type": "markdown",
   "metadata": {
    "slideshow": {
     "slide_type": "fragment"
    }
   },
   "source": [
    "User-facing LP\n",
    "\n",
    "\\begin{align}\n",
    "    \\min_{x} \\ \\ \\ \n",
    "    & c^{T}x + c_{0}\\\\\n",
    "    s.t. \\ \\ \\ \n",
    "    & l_{r} \\leq Ax \\leq u_{r}\\\\\n",
    "    & l_{x} \\leq x \\leq u_{x}\n",
    "\\end{align}\n",
    "\n",
    "Very similar in spirit to [MatrixOptInterface.jl](https://github.com/jump-dev/MatrixOptInterface.jl)"
   ]
  },
  {
   "cell_type": "markdown",
   "metadata": {
    "slideshow": {
     "slide_type": "fragment"
    }
   },
   "source": [
    "For fast build/modify & presolve, we need:\n",
    "* Add/remove rows/columns/coefficients\n",
    "* Access to individual coefficients (more rare)\n",
    "* Ensure row/column index consistency\n",
    "* Fast row-based _and_ column-based iteration over $A$"
   ]
  },
  {
   "cell_type": "markdown",
   "metadata": {
    "slideshow": {
     "slide_type": "subslide"
    }
   },
   "source": [
    "The initial version stored coefficients in a `Dict`...\n",
    "\n",
    "which is very slow and actually not that convenient."
   ]
  },
  {
   "cell_type": "markdown",
   "metadata": {
    "slideshow": {
     "slide_type": "subslide"
    }
   },
   "source": [
    "## Current implementation\n",
    "\n",
    "Similar in principle to [SoPlex](https://soplex.zib.de/), we store two copies of $A$ in sync:\n",
    "* Column-based: `acols::Vector{Col}`\n",
    "* Row-based: `arows::Vector{Row}`\n",
    "\n",
    "Redundant but simplifies the access."
   ]
  },
  {
   "cell_type": "markdown",
   "metadata": {
    "slideshow": {
     "slide_type": "fragment"
    }
   },
   "source": [
    "Each row/column is a (sorted) sparse vector to speed up modifications\n",
    "```julia\n",
    "mutable struct RowOrCol{T}\n",
    "    nzind::Vector{Int}\n",
    "    nzval::Vector{T}\n",
    "end\n",
    "```"
   ]
  },
  {
   "cell_type": "markdown",
   "metadata": {
    "slideshow": {
     "slide_type": "fragment"
    }
   },
   "source": [
    "Row/column deletion is still slow because all the matrix has to shift."
   ]
  },
  {
   "cell_type": "markdown",
   "metadata": {
    "slideshow": {
     "slide_type": "subslide"
    }
   },
   "source": [
    "## Future versions (?)\n",
    "\n",
    "Improvement opportunities\n",
    "1. Batch modifications (currently defaults to individual calls)\n",
    "2. Recently discovered [DynamicSparseArrays.jl](https://github.com/atoptima/DynamicSparseArrays.jl)\n",
    "3. Also enable customization of these data structures, for, e.g.:\n",
    "  * Distributed models\n",
    "  * Operator-based modeling\n",
    "  * ..."
   ]
  },
  {
   "cell_type": "markdown",
   "metadata": {
    "slideshow": {
     "slide_type": "fragment"
    }
   },
   "source": [
    "⚠️ Modifying this part will interfere with presolve. ⚠️"
   ]
  },
  {
   "cell_type": "markdown",
   "metadata": {
    "slideshow": {
     "slide_type": "slide"
    }
   },
   "source": [
    "# Future directions"
   ]
  },
  {
   "cell_type": "markdown",
   "metadata": {
    "slideshow": {
     "slide_type": "subslide"
    }
   },
   "source": [
    "## (convex) Quadratic programming"
   ]
  },
  {
   "cell_type": "markdown",
   "metadata": {
    "slideshow": {
     "slide_type": "fragment"
    }
   },
   "source": [
    "Quadratic objective, linear constraints\n",
    "\n",
    "\\begin{align}\n",
    "    (QP) \\ \\ \\ \\min_{x} \\ \\ \\ \n",
    "    & \\frac{1}{2} x^{T}Qx + c^{T}x\\\\\n",
    "    & A x = b\\\\\n",
    "    & x \\geq 0\n",
    "\\end{align}"
   ]
  },
  {
   "cell_type": "markdown",
   "metadata": {
    "slideshow": {
     "slide_type": "fragment"
    }
   },
   "source": [
    "Same algorithm, but augmented systems are of the form\n",
    "\n",
    "$$\n",
    "    \\begin{bmatrix}\n",
    "        -(Q + \\Theta^{-1}) & A^{T}\\\\\n",
    "        A & 0\n",
    "    \\end{bmatrix}\n",
    "    \\begin{bmatrix}\n",
    "        \\Delta x\\\\\n",
    "        \\Delta y\n",
    "    \\end{bmatrix}\n",
    "    =\n",
    "    \\begin{bmatrix}\n",
    "        b\\\\\n",
    "        c\n",
    "    \\end{bmatrix}\n",
    "$$"
   ]
  },
  {
   "cell_type": "markdown",
   "metadata": {
    "slideshow": {
     "slide_type": "subslide"
    }
   },
   "source": [
    "## Iterative linear solvers 🚧\n",
    "\n",
    "WIP\n",
    "* Initial infrastructure using [Krylov.jl](https://github.com/JuliaSmoothOptimizers/Krylov.jl): cf [#56](https://github.com/ds4dm/Tulip.jl/pull/56)\n",
    "* Changes to the IPM needed for speed & numerics"
   ]
  },
  {
   "cell_type": "markdown",
   "metadata": {
    "slideshow": {
     "slide_type": "fragment"
    }
   },
   "source": [
    "## Specialized solvers\n",
    "\n",
    "* Block-angular problems: large-scale stochastic LPs\n",
    "* Integration with [StructJuMP.jl](https://github.com/StructJuMP/StructJuMP.jl) & [BlockDecomposition.jl](https://github.com/atoptima/BlockDecomposition.jl)"
   ]
  },
  {
   "cell_type": "markdown",
   "metadata": {
    "slideshow": {
     "slide_type": "fragment"
    }
   },
   "source": [
    "## GPU support\n",
    "\n",
    "Most likely as part of a specialized linear solver."
   ]
  }
 ],
 "metadata": {
  "celltoolbar": "Slideshow",
  "kernelspec": {
   "display_name": "Julia 1.4.0",
   "language": "julia",
   "name": "julia-1.4"
  },
  "language_info": {
   "file_extension": ".jl",
   "mimetype": "application/julia",
   "name": "julia",
   "version": "1.4.0"
  }
 },
 "nbformat": 4,
 "nbformat_minor": 2
}
